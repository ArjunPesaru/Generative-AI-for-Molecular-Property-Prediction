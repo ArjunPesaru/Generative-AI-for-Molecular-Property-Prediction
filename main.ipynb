{
 "cells": [
  {
   "cell_type": "code",
   "execution_count": null,
   "metadata": {},
   "outputs": [
    {
     "name": "stdout",
     "output_type": "stream",
     "text": [
      "Fetching molecular data from ChEMBL...\n",
      "Fetched 1000 molecules. Processing...\n"
     ]
    },
    {
     "ename": "AttributeError",
     "evalue": "'NoneType' object has no attribute 'get'",
     "output_type": "error",
     "traceback": [
      "\u001b[0;31m---------------------------------------------------------------------------\u001b[0m",
      "\u001b[0;31mAttributeError\u001b[0m                            Traceback (most recent call last)",
      "Cell \u001b[0;32mIn[2], line 68\u001b[0m\n\u001b[1;32m     66\u001b[0m \u001b[38;5;28;01mif\u001b[39;00m molecules:\n\u001b[1;32m     67\u001b[0m     \u001b[38;5;28mprint\u001b[39m(\u001b[38;5;124mf\u001b[39m\u001b[38;5;124m\"\u001b[39m\u001b[38;5;124mFetched \u001b[39m\u001b[38;5;132;01m{\u001b[39;00m\u001b[38;5;28mlen\u001b[39m(molecules)\u001b[38;5;132;01m}\u001b[39;00m\u001b[38;5;124m molecules. Processing...\u001b[39m\u001b[38;5;124m\"\u001b[39m)\n\u001b[0;32m---> 68\u001b[0m     processed_data \u001b[38;5;241m=\u001b[39m \u001b[43mprocess_molecules\u001b[49m\u001b[43m(\u001b[49m\u001b[43mmolecules\u001b[49m\u001b[43m)\u001b[49m\n\u001b[1;32m     70\u001b[0m     \u001b[38;5;28;01mif\u001b[39;00m processed_data:\n\u001b[1;32m     71\u001b[0m         save_to_csv(processed_data)\n",
      "Cell \u001b[0;32mIn[2], line 36\u001b[0m, in \u001b[0;36mprocess_molecules\u001b[0;34m(molecule_list)\u001b[0m\n\u001b[1;32m     33\u001b[0m \u001b[38;5;28;01mif\u001b[39;00m mol \u001b[38;5;129;01mis\u001b[39;00m \u001b[38;5;28;01mNone\u001b[39;00m \u001b[38;5;129;01mor\u001b[39;00m \u001b[38;5;124m\"\u001b[39m\u001b[38;5;124mmolecule_structures\u001b[39m\u001b[38;5;124m\"\u001b[39m \u001b[38;5;129;01mnot\u001b[39;00m \u001b[38;5;129;01min\u001b[39;00m mol:\n\u001b[1;32m     34\u001b[0m     \u001b[38;5;28;01mcontinue\u001b[39;00m\n\u001b[0;32m---> 36\u001b[0m smiles \u001b[38;5;241m=\u001b[39m \u001b[43mmol\u001b[49m\u001b[43m[\u001b[49m\u001b[38;5;124;43m\"\u001b[39;49m\u001b[38;5;124;43mmolecule_structures\u001b[39;49m\u001b[38;5;124;43m\"\u001b[39;49m\u001b[43m]\u001b[49m\u001b[38;5;241;43m.\u001b[39;49m\u001b[43mget\u001b[49m(\u001b[38;5;124m\"\u001b[39m\u001b[38;5;124mcanonical_smiles\u001b[39m\u001b[38;5;124m\"\u001b[39m, \u001b[38;5;28;01mNone\u001b[39;00m)\n\u001b[1;32m     38\u001b[0m \u001b[38;5;28;01mif\u001b[39;00m smiles:\n\u001b[1;32m     39\u001b[0m     mol_obj \u001b[38;5;241m=\u001b[39m Chem\u001b[38;5;241m.\u001b[39mMolFromSmiles(smiles)\n",
      "\u001b[0;31mAttributeError\u001b[0m: 'NoneType' object has no attribute 'get'"
     ]
    }
   ],
   "source": [
    "import pandas as pd\n",
    "import requests\n",
    "from rdkit import Chem\n",
    "from rdkit.Chem import Descriptors\n",
    "import selfies as sf\n",
    "\n",
    "# Fetch ChEMBL data with error handling\n",
    "def fetch_chembl_data(limit=1000):\n",
    "    url = f\"https://www.ebi.ac.uk/chembl/api/data/molecule.json?limit={limit}\"\n",
    "    response = requests.get(url)\n",
    "\n",
    "    # Validate response\n",
    "    if response.status_code != 200:\n",
    "        print(f\"❌ Error fetching ChEMBL data: {response.status_code}\")\n",
    "        return []\n",
    "\n",
    "    data = response.json()\n",
    "\n",
    "    # Ensure response contains 'molecules' key\n",
    "    if \"molecules\" not in data or not isinstance(data[\"molecules\"], list):\n",
    "        print(\"❌ Error: 'molecules' key missing or not a list in API response.\")\n",
    "        return []\n",
    "\n",
    "    return data[\"molecules\"]\n",
    "\n",
    "# Extract molecular properties\n",
    "def process_molecules(molecule_list):\n",
    "    data = []\n",
    "    \n",
    "    for mol in molecule_list:\n",
    "        # Skip if mol is None\n",
    "        if mol is None:\n",
    "            continue\n",
    "\n",
    "        # Ensure 'molecule_structures' exists and contains 'canonical_smiles'\n",
    "        if \"molecule_structures\" not in mol or mol[\"molecule_structures\"] is None:\n",
    "            continue  # Skip if no structure info\n",
    "\n",
    "        smiles = mol[\"molecule_structures\"].get(\"canonical_smiles\", None)\n",
    "        if not smiles:\n",
    "            continue  # Skip if SMILES is missing\n",
    "\n",
    "        # Convert SMILES to RDKit molecule\n",
    "        mol_obj = Chem.MolFromSmiles(smiles)\n",
    "        if not mol_obj:\n",
    "            continue  # Skip if molecule conversion fails\n",
    "\n",
    "        # Compute molecular properties\n",
    "        mol_weight = Descriptors.MolWt(mol_obj)\n",
    "        logp = Descriptors.MolLogP(mol_obj)\n",
    "        solubility = Descriptors.TPSA(mol_obj)  # Approximate solubility measure\n",
    "\n",
    "        # Convert SMILES to SELFIES (More stable than SMILES)\n",
    "        try:\n",
    "            selfies = sf.encoder(smiles)\n",
    "        except:\n",
    "            selfies = None  # Skip molecule if SELFIES conversion fails\n",
    "\n",
    "        if selfies:\n",
    "            data.append([smiles, selfies, mol_weight, logp, solubility])\n",
    "\n",
    "    return data\n",
    "\n",
    "# Save to CSV\n",
    "def save_to_csv(data, filename=\"molecular_dataset.csv\"):\n",
    "    df = pd.DataFrame(data, columns=[\"SMILES\", \"SELFIES\", \"Molecular_Weight\", \"LogP\", \"Solubility\"])\n",
    "    df.to_csv(filename, index=False)\n",
    "    print(f\"✅ Dataset saved as {filename} ({len(df)} molecules)\")\n",
    "\n",
    "# Main execution\n",
    "print(\"🔍 Fetching molecular data from ChEMBL...\")\n",
    "molecules = fetch_chembl_data(limit=2000)\n",
    "\n",
    "if molecules:\n",
    "    print(f\"📦 Fetched {len(molecules)} molecules. Processing...\")\n",
    "    processed_data = process_molecules(molecules)\n",
    "\n",
    "    if processed_data:\n",
    "        save_to_csv(processed_data)\n",
    "        print(\"✅ Dataset successfully created!\")\n",
    "    else:\n",
    "        print(\"⚠️ No valid molecules were processed.\")\n",
    "else:\n",
    "    print(\"⚠️ Failed to fetch molecules from ChEMBL.\")\n"
   ]
  }
 ],
 "metadata": {
  "kernelspec": {
   "display_name": "3.9.7",
   "language": "python",
   "name": "python3"
  },
  "language_info": {
   "codemirror_mode": {
    "name": "ipython",
    "version": 3
   },
   "file_extension": ".py",
   "mimetype": "text/x-python",
   "name": "python",
   "nbconvert_exporter": "python",
   "pygments_lexer": "ipython3",
   "version": "3.9.7"
  }
 },
 "nbformat": 4,
 "nbformat_minor": 2
}
